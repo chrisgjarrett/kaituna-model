{
 "cells": [
  {
   "cell_type": "code",
   "execution_count": 6,
   "id": "13083dab-ea68-4cec-90f5-20c5c523423b",
   "metadata": {},
   "outputs": [],
   "source": [
    "def get_df_from_json(data_url, record_path=['Data']):\n",
    "    content = requests.get(data_url).json()\n",
    "    df_all = pd.json_normalize(content,record_path=record_path)\n",
    "    \n",
    "    return df_all"
   ]
  },
  {
   "cell_type": "code",
   "execution_count": 7,
   "id": "c4de1eaf-f687-445e-a6eb-6d261c211e44",
   "metadata": {},
   "outputs": [],
   "source": [
    "# Scrape webpage\n",
    "import io\n",
    "import requests\n",
    "import pandas as pd\n",
    "\n",
    "# Start date and end date\n",
    "start_date = '2022-10-14'\n",
    "end_date = '2022-10-15'\n",
    "\n"
   ]
  },
  {
   "cell_type": "code",
   "execution_count": 9,
   "id": "57b9ab85-e85d-4d76-8c9c-e10b9c99cc81",
   "metadata": {},
   "outputs": [
    {
     "name": "stdout",
     "output_type": "stream",
     "text": [
      "(289, 2)\n",
      "                  TimeStamp   FlowRate\n",
      "0 2022-10-15 00:00:00+00:00  40.598459\n",
      "1 2022-10-14 23:55:00+00:00  40.598459\n",
      "2 2022-10-14 23:50:00+00:00  40.429302\n",
      "3 2022-10-14 23:45:00+00:00  40.361712\n",
      "4 2022-10-14 23:40:00+00:00  40.159192\n"
     ]
    }
   ],
   "source": [
    "# Get river data\n",
    "river_data_url = 'https://envdata.boprc.govt.nz/Data/DatasetGrid?dataset=35946&sort=TimeStamp-desc&page=1&group=&filter=&interval=Custom&timezone=720&date={}&endDate={}&calendar=1&alldata=false'.format(start_date, end_date)\n",
    "flow_df_all = get_df_from_json(river_data_url)\n",
    "flow_df = flow_df_all[[\"TimeStamp\", \"Value\"]]\n",
    "flow_df = flow_df.rename(columns={'Value': 'FlowRate'})\n",
    "flow_df['TimeStamp']= pd.to_datetime(flow_df['TimeStamp'])\n",
    "\n",
    "print(flow_df.shape)\n",
    "print(flow_df.head())"
   ]
  },
  {
   "cell_type": "code",
   "execution_count": 10,
   "id": "7d3b43e4-193d-4f11-8ad4-6708c848c162",
   "metadata": {},
   "outputs": [
    {
     "name": "stdout",
     "output_type": "stream",
     "text": [
      "(289, 2)\n",
      "                  TimeStamp  LakeLevel\n",
      "0 2022-10-15 00:00:00+00:00    279.221\n",
      "1 2022-10-14 23:55:00+00:00    279.220\n",
      "2 2022-10-14 23:50:00+00:00    279.221\n",
      "3 2022-10-14 23:45:00+00:00    279.221\n",
      "4 2022-10-14 23:40:00+00:00    279.223\n"
     ]
    }
   ],
   "source": [
    "# Get Lake levels\n",
    "lake_level_url = 'https://envdata.boprc.govt.nz/Data/DatasetGrid?dataset=32419&sort=TimeStamp-desc&page=1&group=&filter=&interval=Custom&timezone=720&date={}&endDate={}&calendar=1&alldata=false'.format(start_date, end_date)\n",
    "lake_level_df_all = get_df_from_json(lake_level_url)\n",
    "lake_level_df = lake_level_df_all[[\"TimeStamp\", \"Value\"]]\n",
    "lake_level_df = lake_level_df.rename(columns={'Value': 'LakeLevel'})\n",
    "lake_level_df['TimeStamp']= pd.to_datetime(lake_level_df['TimeStamp'])\n",
    "print(lake_level_df.shape)\n",
    "print(lake_level_df.head())\n"
   ]
  },
  {
   "cell_type": "code",
   "execution_count": 11,
   "id": "e6085719-c90f-4742-9430-c3bda968c2e4",
   "metadata": {},
   "outputs": [
    {
     "name": "stdout",
     "output_type": "stream",
     "text": [
      "                  TimeStamp  Rainfall\n",
      "0 2022-10-15 00:00:00+00:00       0.0\n",
      "1 2022-10-14 23:00:00+00:00       0.0\n",
      "2 2022-10-14 22:00:00+00:00       0.0\n",
      "3 2022-10-14 21:00:00+00:00       0.0\n",
      "4 2022-10-14 20:00:00+00:00       0.0\n"
     ]
    }
   ],
   "source": [
    "# Get rainfall at Lake Rotoiti\n",
    "\n",
    "rainfall_url = 'https://envdata.boprc.govt.nz/Data/DatasetGrid?dataset=47928&sort=TimeStamp-desc&page=1&group=&filter=&interval=Custom&timezone=720&date={}&endDate={}&calendar=1&alldata=false'.format(start_date, end_date)\n",
    "rainfall_df_all = get_df_from_json(rainfall_url)\n",
    "rainfall_df = rainfall_df_all[[\"TimeStamp\", \"Value\"]]\n",
    "rainfall_df = rainfall_df.rename(columns={'Value': 'Rainfall'})\n",
    "rainfall_df['TimeStamp']= pd.to_datetime(rainfall_df['TimeStamp'])\n",
    "print(rainfall_df.head())"
   ]
  },
  {
   "cell_type": "code",
   "execution_count": 21,
   "id": "286790ba-02f4-4fca-8586-29281e9412f7",
   "metadata": {},
   "outputs": [
    {
     "name": "stdout",
     "output_type": "stream",
     "text": [
      "                                          TimeStamp  LakeLevel   FlowRate  \\\n",
      "TimeStamp                                                                   \n",
      "2022-10-15 00:00:00+00:00 2022-10-15 00:00:00+00:00    279.221  40.598459   \n",
      "2022-10-14 23:00:00+00:00 2022-10-14 23:00:00+00:00    279.223  40.294164   \n",
      "2022-10-14 22:00:00+00:00 2022-10-14 22:00:00+00:00    279.225  40.632322   \n",
      "2022-10-14 21:00:00+00:00 2022-10-14 21:00:00+00:00    279.225  40.429302   \n",
      "2022-10-14 20:00:00+00:00 2022-10-14 20:00:00+00:00    279.223  40.463113   \n",
      "2022-10-14 19:00:00+00:00 2022-10-14 19:00:00+00:00    279.229  40.666195   \n",
      "2022-10-14 18:00:00+00:00 2022-10-14 18:00:00+00:00    279.227  40.666195   \n",
      "2022-10-14 17:00:00+00:00 2022-10-14 17:00:00+00:00    279.228  40.598459   \n",
      "2022-10-14 16:00:00+00:00 2022-10-14 16:00:00+00:00    279.231  40.632322   \n",
      "2022-10-14 15:00:00+00:00 2022-10-14 15:00:00+00:00    279.229  40.700078   \n",
      "2022-10-14 14:00:00+00:00 2022-10-14 14:00:00+00:00    279.233  40.632322   \n",
      "2022-10-14 13:00:00+00:00 2022-10-14 13:00:00+00:00    279.234  40.733972   \n",
      "2022-10-14 12:00:00+00:00 2022-10-14 12:00:00+00:00    279.233  40.869651   \n",
      "2022-10-14 11:00:00+00:00 2022-10-14 11:00:00+00:00    279.235  40.767876   \n",
      "2022-10-14 10:00:00+00:00 2022-10-14 10:00:00+00:00    279.233  40.835716   \n",
      "2022-10-14 09:00:00+00:00 2022-10-14 09:00:00+00:00    279.230  40.767876   \n",
      "2022-10-14 08:00:00+00:00 2022-10-14 08:00:00+00:00    279.232  40.767876   \n",
      "2022-10-14 07:00:00+00:00 2022-10-14 07:00:00+00:00    279.235  40.903597   \n",
      "2022-10-14 06:00:00+00:00 2022-10-14 06:00:00+00:00    279.232  41.345835   \n",
      "2022-10-14 05:00:00+00:00 2022-10-14 05:00:00+00:00    279.236  40.666195   \n",
      "2022-10-14 04:00:00+00:00 2022-10-14 04:00:00+00:00    279.234  41.039483   \n",
      "2022-10-14 03:00:00+00:00 2022-10-14 03:00:00+00:00    279.233  40.835716   \n",
      "2022-10-14 02:00:00+00:00 2022-10-14 02:00:00+00:00    279.236  41.209575   \n",
      "2022-10-14 01:00:00+00:00 2022-10-14 01:00:00+00:00    279.238  41.107489   \n",
      "2022-10-14 00:00:00+00:00 2022-10-14 00:00:00+00:00    279.237  40.937553   \n",
      "\n",
      "                           Rainfall  \n",
      "TimeStamp                            \n",
      "2022-10-15 00:00:00+00:00       0.0  \n",
      "2022-10-14 23:00:00+00:00       0.0  \n",
      "2022-10-14 22:00:00+00:00       0.0  \n",
      "2022-10-14 21:00:00+00:00       0.0  \n",
      "2022-10-14 20:00:00+00:00       0.0  \n",
      "2022-10-14 19:00:00+00:00       0.0  \n",
      "2022-10-14 18:00:00+00:00       0.0  \n",
      "2022-10-14 17:00:00+00:00       0.0  \n",
      "2022-10-14 16:00:00+00:00       0.0  \n",
      "2022-10-14 15:00:00+00:00       0.0  \n",
      "2022-10-14 14:00:00+00:00       0.0  \n",
      "2022-10-14 13:00:00+00:00       0.0  \n",
      "2022-10-14 12:00:00+00:00       0.0  \n",
      "2022-10-14 11:00:00+00:00       0.0  \n",
      "2022-10-14 10:00:00+00:00       0.0  \n",
      "2022-10-14 09:00:00+00:00       0.0  \n",
      "2022-10-14 08:00:00+00:00       0.0  \n",
      "2022-10-14 07:00:00+00:00       0.0  \n",
      "2022-10-14 06:00:00+00:00       0.0  \n",
      "2022-10-14 05:00:00+00:00       0.0  \n",
      "2022-10-14 04:00:00+00:00       0.0  \n",
      "2022-10-14 03:00:00+00:00       0.0  \n",
      "2022-10-14 02:00:00+00:00       0.0  \n",
      "2022-10-14 01:00:00+00:00       0.0  \n",
      "2022-10-14 00:00:00+00:00       0.0  \n"
     ]
    }
   ],
   "source": [
    "# Merge datasets into one dataframe\n",
    "df_temp = pd.merge(lake_level_df, flow_df, on='TimeStamp')\n",
    "df_combined = pd.merge(df_temp, rainfall_df, on='TimeStamp', how='left')\n",
    "\n",
    "#Set index\n",
    "df_combined.index = df_all['TimeStamp']\n",
    "\n",
    "#Remove rows for which we don't have rainfall data\n",
    "df_river_data = df_combined.dropna()\n",
    "print (df_river_data)"
   ]
  },
  {
   "cell_type": "code",
   "execution_count": null,
   "id": "1fec87ac-9485-4ec5-9056-d68e2c07113d",
   "metadata": {},
   "outputs": [],
   "source": []
  }
 ],
 "metadata": {
  "kernelspec": {
   "display_name": "Python 3 (ipykernel)",
   "language": "python",
   "name": "python3"
  },
  "language_info": {
   "codemirror_mode": {
    "name": "ipython",
    "version": 3
   },
   "file_extension": ".py",
   "mimetype": "text/x-python",
   "name": "python",
   "nbconvert_exporter": "python",
   "pygments_lexer": "ipython3",
   "version": "3.9.12"
  }
 },
 "nbformat": 4,
 "nbformat_minor": 5
}
