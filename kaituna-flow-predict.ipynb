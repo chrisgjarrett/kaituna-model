{
 "cells": [
  {
   "cell_type": "code",
   "execution_count": 61,
   "id": "c4de1eaf-f687-445e-a6eb-6d261c211e44",
   "metadata": {},
   "outputs": [
    {
     "name": "stdout",
     "output_type": "stream",
     "text": [
      "Done scraping\n"
     ]
    }
   ],
   "source": [
    "# Scrape webpage\n",
    "import io\n",
    "import requests\n",
    "import pandas as pd\n",
    "from selenium import webdriver\n",
    "from bs4 import BeautifulSoup\n",
    "from selenium.webdriver.support.ui import WebDriverWait\n",
    "from selenium.webdriver.support import expected_conditions as EC\n",
    "from selenium.webdriver.common.by import By\n",
    "\n",
    "# Start date and end date\n",
    "start_date = '2022-10-14'\n",
    "end_date = '2022-10-15'\n",
    "\n",
    "# Get data\n",
    "data_url = 'https://envdata.boprc.govt.nz/Data/DatasetGrid?dataset=35946&sort=TimeStamp-desc&page=1&group=&filter=&interval=Custom&timezone=720&date={}&endDate={}&calendar=1&alldata=false'.format(start_date, end_date)\n",
    "content = requests.get(data_url).json()\n",
    "df_all = pd.json_normalize(content,record_path=['Data'])\n",
    "\n",
    "print(\"Done scraping\")"
   ]
  },
  {
   "cell_type": "code",
   "execution_count": 58,
   "id": "e02c9975-418b-4f6c-af2a-3bc3f7c12a24",
   "metadata": {},
   "outputs": [],
   "source": [
    "# Extract flow data\n",
    "df = df_all[[\"TimeStamp\", \"Value\"]]\n",
    "df = df.rename(columns={'Value': 'FlowRate'})"
   ]
  },
  {
   "cell_type": "code",
   "execution_count": 59,
   "id": "3725a941-a575-4391-be24-a3fbd2236192",
   "metadata": {},
   "outputs": [
    {
     "data": {
      "text/html": [
       "<div>\n",
       "<style scoped>\n",
       "    .dataframe tbody tr th:only-of-type {\n",
       "        vertical-align: middle;\n",
       "    }\n",
       "\n",
       "    .dataframe tbody tr th {\n",
       "        vertical-align: top;\n",
       "    }\n",
       "\n",
       "    .dataframe thead th {\n",
       "        text-align: right;\n",
       "    }\n",
       "</style>\n",
       "<table border=\"1\" class=\"dataframe\">\n",
       "  <thead>\n",
       "    <tr style=\"text-align: right;\">\n",
       "      <th></th>\n",
       "      <th>TimeStamp</th>\n",
       "      <th>FlowRate</th>\n",
       "    </tr>\n",
       "  </thead>\n",
       "  <tbody>\n",
       "    <tr>\n",
       "      <th>0</th>\n",
       "      <td>2022-10-15T00:00:00Z</td>\n",
       "      <td>40.598459</td>\n",
       "    </tr>\n",
       "    <tr>\n",
       "      <th>1</th>\n",
       "      <td>2022-10-14T23:55:00Z</td>\n",
       "      <td>40.598459</td>\n",
       "    </tr>\n",
       "    <tr>\n",
       "      <th>2</th>\n",
       "      <td>2022-10-14T23:50:00Z</td>\n",
       "      <td>40.429302</td>\n",
       "    </tr>\n",
       "    <tr>\n",
       "      <th>3</th>\n",
       "      <td>2022-10-14T23:45:00Z</td>\n",
       "      <td>40.361712</td>\n",
       "    </tr>\n",
       "    <tr>\n",
       "      <th>4</th>\n",
       "      <td>2022-10-14T23:40:00Z</td>\n",
       "      <td>40.159192</td>\n",
       "    </tr>\n",
       "    <tr>\n",
       "      <th>...</th>\n",
       "      <td>...</td>\n",
       "      <td>...</td>\n",
       "    </tr>\n",
       "    <tr>\n",
       "      <th>284</th>\n",
       "      <td>2022-10-14T00:20:00Z</td>\n",
       "      <td>40.767876</td>\n",
       "    </tr>\n",
       "    <tr>\n",
       "      <th>285</th>\n",
       "      <td>2022-10-14T00:15:00Z</td>\n",
       "      <td>40.733972</td>\n",
       "    </tr>\n",
       "    <tr>\n",
       "      <th>286</th>\n",
       "      <td>2022-10-14T00:10:00Z</td>\n",
       "      <td>41.107489</td>\n",
       "    </tr>\n",
       "    <tr>\n",
       "      <th>287</th>\n",
       "      <td>2022-10-14T00:05:00Z</td>\n",
       "      <td>41.277684</td>\n",
       "    </tr>\n",
       "    <tr>\n",
       "      <th>288</th>\n",
       "      <td>2022-10-14T00:00:00Z</td>\n",
       "      <td>40.937553</td>\n",
       "    </tr>\n",
       "  </tbody>\n",
       "</table>\n",
       "<p>289 rows × 2 columns</p>\n",
       "</div>"
      ],
      "text/plain": [
       "                TimeStamp   FlowRate\n",
       "0    2022-10-15T00:00:00Z  40.598459\n",
       "1    2022-10-14T23:55:00Z  40.598459\n",
       "2    2022-10-14T23:50:00Z  40.429302\n",
       "3    2022-10-14T23:45:00Z  40.361712\n",
       "4    2022-10-14T23:40:00Z  40.159192\n",
       "..                    ...        ...\n",
       "284  2022-10-14T00:20:00Z  40.767876\n",
       "285  2022-10-14T00:15:00Z  40.733972\n",
       "286  2022-10-14T00:10:00Z  41.107489\n",
       "287  2022-10-14T00:05:00Z  41.277684\n",
       "288  2022-10-14T00:00:00Z  40.937553\n",
       "\n",
       "[289 rows x 2 columns]"
      ]
     },
     "execution_count": 59,
     "metadata": {},
     "output_type": "execute_result"
    }
   ],
   "source": [
    "df"
   ]
  },
  {
   "cell_type": "code",
   "execution_count": null,
   "id": "bdb1fed2-6b18-48ab-8a6b-1877defa482a",
   "metadata": {},
   "outputs": [],
   "source": []
  }
 ],
 "metadata": {
  "kernelspec": {
   "display_name": "Python 3 (ipykernel)",
   "language": "python",
   "name": "python3"
  },
  "language_info": {
   "codemirror_mode": {
    "name": "ipython",
    "version": 3
   },
   "file_extension": ".py",
   "mimetype": "text/x-python",
   "name": "python",
   "nbconvert_exporter": "python",
   "pygments_lexer": "ipython3",
   "version": "3.9.12"
  }
 },
 "nbformat": 4,
 "nbformat_minor": 5
}
