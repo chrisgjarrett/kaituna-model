{
 "cells": [
  {
   "cell_type": "code",
   "execution_count": 9,
   "id": "13083dab-ea68-4cec-90f5-20c5c523423b",
   "metadata": {},
   "outputs": [],
   "source": [
    "def get_df_from_json(data_url, record_path=['Data']):\n",
    "    content = requests.get(data_url).json()\n",
    "    df_all = pd.json_normalize(content,record_path=record_path)\n",
    "    \n",
    "    return df_all"
   ]
  },
  {
   "cell_type": "code",
   "execution_count": 10,
   "id": "c4de1eaf-f687-445e-a6eb-6d261c211e44",
   "metadata": {},
   "outputs": [],
   "source": [
    "# Scrape webpage\n",
    "import io\n",
    "import requests\n",
    "import pandas as pd\n",
    "from datetime import date, timedelta\n",
    "\n",
    "# Start date and end date\n",
    "today = date.today()\n",
    "start_date = '2017-01-01'\n",
    "end_date = date.today() - timedelta(days=1)"
   ]
  },
  {
   "cell_type": "code",
   "execution_count": null,
   "id": "57b9ab85-e85d-4d76-8c9c-e10b9c99cc81",
   "metadata": {},
   "outputs": [],
   "source": [
    "# Get flow data\n",
    "flow_data_url = 'https://envdata.boprc.govt.nz/Data/DatasetGrid?dataset=35946&sort=TimeStamp-desc&page=1&group=&filter=&interval=Custom&timezone=720&date={}&endDate={}&calendar=1&alldata=false'.format(start_date, end_date)\n",
    "flow_df_all = get_df_from_json(flow_data_url)\n",
    "flow_df = flow_df_all[[\"TimeStamp\", \"Value\"]]\n",
    "flow_df = flow_df.rename(columns={'Value': 'FlowRate'})\n",
    "flow_df['TimeStamp']= pd.to_datetime(flow_df['TimeStamp'])\n",
    "\n",
    "print(flow_df.shape)\n",
    "print(flow_df.head())"
   ]
  },
  {
   "cell_type": "code",
   "execution_count": null,
   "id": "7d3b43e4-193d-4f11-8ad4-6708c848c162",
   "metadata": {},
   "outputs": [],
   "source": [
    "# Get Lake levels\n",
    "lake_level_url = 'https://envdata.boprc.govt.nz/Data/DatasetGrid?dataset=32419&sort=TimeStamp-desc&page=1&group=&filter=&interval=Custom&timezone=720&date={}&endDate={}&calendar=1&alldata=false'.format(start_date, end_date)\n",
    "lake_level_df_all = get_df_from_json(lake_level_url)\n",
    "lake_level_df = lake_level_df_all[[\"TimeStamp\", \"Value\"]]\n",
    "lake_level_df = lake_level_df.rename(columns={'Value': 'LakeLevel'})\n",
    "lake_level_df['TimeStamp']= pd.to_datetime(lake_level_df['TimeStamp'])\n",
    "print(lake_level_df.shape)\n",
    "print(lake_level_df.head())\n"
   ]
  },
  {
   "cell_type": "code",
   "execution_count": null,
   "id": "d8e148cd",
   "metadata": {},
   "outputs": [],
   "source": [
    "# Get gate levels\n",
    "#Gate 1\n",
    "gate_levels_url_1 = 'https://envdata.boprc.govt.nz/Data/DatasetGrid?dataset=38970&sort=TimeStamp-desc&page=1&group=&filter=&interval=Custom&timezone=720&date={}&endDate={}&calendar=1&alldata=false'.format(start_date, end_date)\n",
    "gate_1_df = get_df_from_json(gate_levels_url_1)\n",
    "gate_1_df = gate_1_df[[\"TimeStamp\", \"Value\"]]\n",
    "gate_1_df = gate_1_df.rename(columns={\"Value\": \"Gate1\"})\n",
    "\n",
    "# Gate 2\n",
    "gate_levels_url_2 = 'https://envdata.boprc.govt.nz/Data/DatasetGrid?dataset=38973&sort=TimeStamp-desc&page=1&group=&filter=&interval=Custom&timezone=720&date={}&endDate={}&calendar=1&alldata=false'.format(start_date, end_date)\n",
    "gate_2_df = get_df_from_json(gate_levels_url_2)\n",
    "gate_2_df = gate_2_df[[\"TimeStamp\", \"Value\"]]\n",
    "gate_2_df = gate_2_df.rename(columns={\"Value\": \"Gate2\"})\n",
    "\n",
    "# Gate 3\n",
    "gate_levels_url_3 = 'https://envdata.boprc.govt.nz/Data/DatasetGrid?dataset=38972&sort=TimeStamp-desc&page=1&group=&filter=&interval=Custom&timezone=720&date={}&endDate={}&calendar=1&alldata=false'.format(start_date, end_date)\n",
    "gate_3_df = get_df_from_json(gate_levels_url_3)\n",
    "gate_3_df = gate_3_df[[\"TimeStamp\", \"Value\"]]\n",
    "gate_3_df = gate_3_df.rename(columns={\"Value\": \"Gate3\"})\n",
    "\n",
    "# Concatenate into single dataframe\n",
    "gate_levels_df_temp = pd.merge(gate_1_df, gate_2_df, on='TimeStamp')\n",
    "gate_levels_df = pd.merge(gate_levels_df_temp, gate_3_df, on='TimeStamp', how='left')\n",
    "gate_levels_df['TimeStamp']= pd.to_datetime(gate_levels_df['TimeStamp'])\n",
    "\n",
    "print(gate_levels_df.describe())\n",
    "print(gate_levels_df.head())"
   ]
  },
  {
   "cell_type": "code",
   "execution_count": null,
   "id": "e6085719-c90f-4742-9430-c3bda968c2e4",
   "metadata": {},
   "outputs": [],
   "source": [
    "# Get rainfall at Lake Rotoiti\n",
    "rainfall_url = 'https://envdata.boprc.govt.nz/Data/DatasetGrid?dataset=47928&sort=TimeStamp-desc&page=1&group=&filter=&interval=Custom&timezone=720&date={}&endDate={}&calendar=1&alldata=false'.format(start_date, end_date)\n",
    "\n",
    "rainfall_df_all = get_df_from_json(rainfall_url)\n",
    "rainfall_df = rainfall_df_all[[\"TimeStamp\", \"Value\"]]\n",
    "rainfall_df = rainfall_df.rename(columns={'Value': 'Rainfall'})\n",
    "rainfall_df['TimeStamp']= pd.to_datetime(rainfall_df['TimeStamp'])\n",
    "print(rainfall_df.head())\n",
    "print(rainfall_df.shape)"
   ]
  },
  {
   "cell_type": "code",
   "execution_count": null,
   "id": "286790ba-02f4-4fca-8586-29281e9412f7",
   "metadata": {},
   "outputs": [],
   "source": [
    "# Merge datasets into one dataframe\n",
    "df_temp = pd.merge(lake_level_df, flow_df, on='TimeStamp', how='left')\n",
    "df_temp = pd.merge(df_temp, gate_levels_df, on='TimeStamp', how='left')\n",
    "df_combined = pd.merge(df_temp, rainfall_df, on='TimeStamp', how='right')\n",
    "\n",
    "#Set index\n",
    "df_combined['TimeStamp'] = pd.to_datetime(df_combined['TimeStamp'])\n",
    "df_combined.set_index('TimeStamp', inplace=True)\n",
    "\n",
    "#Remove rows for which we don't have rainfall data\n",
    "df_river_data = df_combined.dropna()\n",
    "\n",
    "#Sort by timestamp descending\n",
    "df_river_data = df_river_data.sort_values('TimeStamp')\n",
    "\n",
    "print (df_river_data)"
   ]
  },
  {
   "cell_type": "code",
   "execution_count": null,
   "id": "1fec87ac-9485-4ec5-9056-d68e2c07113d",
   "metadata": {},
   "outputs": [],
   "source": [
    "#Save to csv\n",
    "df_river_data.to_csv('kaituna_data.csv')"
   ]
  }
 ],
 "metadata": {
  "kernelspec": {
   "display_name": "Python 3 (ipykernel)",
   "language": "python",
   "name": "python3"
  },
  "language_info": {
   "codemirror_mode": {
    "name": "ipython",
    "version": 3
   },
   "file_extension": ".py",
   "mimetype": "text/x-python",
   "name": "python",
   "nbconvert_exporter": "python",
   "pygments_lexer": "ipython3",
   "version": "3.9.12"
  }
 },
 "nbformat": 4,
 "nbformat_minor": 5
}
