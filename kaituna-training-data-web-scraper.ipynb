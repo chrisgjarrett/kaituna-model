{
 "cells": [
  {
   "cell_type": "code",
   "execution_count": 114,
   "id": "13083dab-ea68-4cec-90f5-20c5c523423b",
   "metadata": {},
   "outputs": [],
   "source": [
    "def get_df_from_json(data_url, record_path=['Data']):\n",
    "    content = requests.get(data_url).json()\n",
    "    df_all = pd.json_normalize(content,record_path=record_path)\n",
    "    \n",
    "    return df_all"
   ]
  },
  {
   "cell_type": "code",
   "execution_count": 115,
   "id": "c4de1eaf-f687-445e-a6eb-6d261c211e44",
   "metadata": {},
   "outputs": [],
   "source": [
    "# Scrape webpage\n",
    "import io\n",
    "import requests\n",
    "import pandas as pd\n",
    "from datetime import date, timedelta\n",
    "\n",
    "# Start date and end date\n",
    "today = date.today()\n",
    "start_date = '2020-01-01'\n",
    "end_date = date.today() - timedelta(days=1)"
   ]
  },
  {
   "cell_type": "code",
   "execution_count": 116,
   "id": "57b9ab85-e85d-4d76-8c9c-e10b9c99cc81",
   "metadata": {},
   "outputs": [
    {
     "name": "stdout",
     "output_type": "stream",
     "text": [
      "(293741, 2)\n",
      "                  TimeStamp   FlowRate\n",
      "0 2022-10-17 00:00:00+00:00  39.085441\n",
      "1 2022-10-16 23:55:00+00:00  38.851989\n",
      "2 2022-10-16 23:50:00+00:00  39.386349\n",
      "3 2022-10-16 23:45:00+00:00  39.152236\n",
      "4 2022-10-16 23:40:00+00:00  38.851989\n"
     ]
    }
   ],
   "source": [
    "# Get river data\n",
    "river_data_url = 'https://envdata.boprc.govt.nz/Data/DatasetGrid?dataset=35946&sort=TimeStamp-desc&page=1&group=&filter=&interval=Custom&timezone=720&date={}&endDate={}&calendar=1&alldata=false'.format(start_date, end_date)\n",
    "flow_df_all = get_df_from_json(river_data_url)\n",
    "flow_df = flow_df_all[[\"TimeStamp\", \"Value\"]]\n",
    "flow_df = flow_df.rename(columns={'Value': 'FlowRate'})\n",
    "flow_df['TimeStamp']= pd.to_datetime(flow_df['TimeStamp'])\n",
    "\n",
    "print(flow_df.shape)\n",
    "print(flow_df.head())"
   ]
  },
  {
   "cell_type": "code",
   "execution_count": 117,
   "id": "7d3b43e4-193d-4f11-8ad4-6708c848c162",
   "metadata": {},
   "outputs": [
    {
     "name": "stdout",
     "output_type": "stream",
     "text": [
      "(293824, 2)\n",
      "                  TimeStamp LakeLevel\n",
      "0 2022-10-17 00:00:00+00:00    279.19\n",
      "1 2022-10-16 23:55:00+00:00   279.186\n",
      "2 2022-10-16 23:50:00+00:00   279.178\n",
      "3 2022-10-16 23:45:00+00:00   279.178\n",
      "4 2022-10-16 23:40:00+00:00   279.182\n"
     ]
    }
   ],
   "source": [
    "# Get Lake levels\n",
    "lake_level_url = 'https://envdata.boprc.govt.nz/Data/DatasetGrid?dataset=32419&sort=TimeStamp-desc&page=1&group=&filter=&interval=Custom&timezone=720&date={}&endDate={}&calendar=1&alldata=false'.format(start_date, end_date)\n",
    "lake_level_df_all = get_df_from_json(lake_level_url)\n",
    "lake_level_df = lake_level_df_all[[\"TimeStamp\", \"Value\"]]\n",
    "lake_level_df = lake_level_df.rename(columns={'Value': 'LakeLevel'})\n",
    "lake_level_df['TimeStamp']= pd.to_datetime(lake_level_df['TimeStamp'])\n",
    "print(lake_level_df.shape)\n",
    "print(lake_level_df.head())\n"
   ]
  },
  {
   "cell_type": "code",
   "execution_count": 146,
   "id": "0e435eec",
   "metadata": {},
   "outputs": [
    {
     "name": "stdout",
     "output_type": "stream",
     "text": [
      "               Gate1          Gate2          Gate3\n",
      "count  292363.000000  292363.000000  292334.000000\n",
      "mean      380.544265     383.540602     396.290165\n",
      "std       339.928017     324.317341     327.146587\n",
      "min         0.000000       0.000000       0.000000\n",
      "25%       200.000000     210.000000     220.000000\n",
      "50%       299.000000     299.000000     299.000000\n",
      "75%       449.000000     399.000000     400.000000\n",
      "max      1500.000000    1500.000000    1600.000000\n"
     ]
    }
   ],
   "source": [
    "# Get gate levels\n",
    "#Gate 1\n",
    "gate_levels_url_1 = 'https://envdata.boprc.govt.nz/Data/DatasetGrid?dataset=38970&sort=TimeStamp-desc&page=1&group=&filter=&interval=Custom&timezone=720&date={}&endDate={}&calendar=1&alldata=false'.format(start_date, end_date)\n",
    "gate_1_df = get_df_from_json(gate_levels_url_1)\n",
    "gate_1_df = gate_1_df[[\"TimeStamp\", \"Value\"]]\n",
    "gate_1_df = gate_1_df.rename(columns={\"Value\": \"Gate1\"})\n",
    "\n",
    "# Gate 2\n",
    "gate_levels_url_2 = 'https://envdata.boprc.govt.nz/Data/DatasetGrid?dataset=38973&sort=TimeStamp-desc&page=1&group=&filter=&interval=Custom&timezone=720&date={}&endDate={}&calendar=1&alldata=false'.format(start_date, end_date)\n",
    "gate_2_df = get_df_from_json(gate_levels_url_2)\n",
    "gate_2_df = gate_2_df[[\"TimeStamp\", \"Value\"]]\n",
    "gate_2_df = gate_2_df.rename(columns={\"Value\": \"Gate2\"})\n",
    "\n",
    "# Gate 3\n",
    "gate_levels_url_3 = 'https://envdata.boprc.govt.nz/Data/DatasetGrid?dataset=38972&sort=TimeStamp-desc&page=1&group=&filter=&interval=Custom&timezone=720&date={}&endDate={}&calendar=1&alldata=false'.format(start_date, end_date)\n",
    "gate_3_df = get_df_from_json(gate_levels_url_3)\n",
    "gate_3_df = gate_3_df[[\"TimeStamp\", \"Value\"]]\n",
    "gate_3_df = gate_3_df.rename(columns={\"Value\": \"Gate3\"})\n",
    "\n",
    "# Concatenate into single dataframe\n",
    "gate_levels_df_temp = pd.merge(gate_1_df, gate_2_df, on='TimeStamp')\n",
    "gate_levels_df = pd.merge(gate_levels_df_temp, gate_3_df, on='TimeStamp', how='left')\n",
    "gate_levels_df['TimeStamp']= pd.to_datetime(gate_levels_df['TimeStamp'])\n",
    "\n",
    "print(gate_levels_df.describe())\n",
    "print(gate_levels_df.head())"
   ]
  },
  {
   "cell_type": "code",
   "execution_count": 147,
   "id": "e6085719-c90f-4742-9430-c3bda968c2e4",
   "metadata": {},
   "outputs": [
    {
     "name": "stdout",
     "output_type": "stream",
     "text": [
      "                  TimeStamp  Rainfall\n",
      "0 2022-10-17 00:00:00+00:00       0.0\n",
      "1 2022-10-16 23:00:00+00:00       0.0\n",
      "2 2022-10-16 22:00:00+00:00       0.0\n",
      "3 2022-10-16 21:00:00+00:00       0.0\n",
      "4 2022-10-16 20:00:00+00:00       0.0\n",
      "(24481, 2)\n"
     ]
    }
   ],
   "source": [
    "# Get rainfall at Lake Rotoiti\n",
    "\n",
    "rainfall_url = 'https://envdata.boprc.govt.nz/Data/DatasetGrid?dataset=47928&sort=TimeStamp-desc&page=1&group=&filter=&interval=Custom&timezone=720&date={}&endDate={}&calendar=1&alldata=false'.format(start_date, end_date)\n",
    "rainfall_df_all = get_df_from_json(rainfall_url)\n",
    "rainfall_df = rainfall_df_all[[\"TimeStamp\", \"Value\"]]\n",
    "rainfall_df = rainfall_df.rename(columns={'Value': 'Rainfall'})\n",
    "rainfall_df['TimeStamp']= pd.to_datetime(rainfall_df['TimeStamp'])\n",
    "print(rainfall_df.head())\n",
    "print(rainfall_df.shape)"
   ]
  },
  {
   "cell_type": "code",
   "execution_count": 149,
   "id": "286790ba-02f4-4fca-8586-29281e9412f7",
   "metadata": {},
   "outputs": [
    {
     "name": "stdout",
     "output_type": "stream",
     "text": [
      "                          LakeLevel   FlowRate   Gate1   Gate2   Gate3  \\\n",
      "TimeStamp                                                                \n",
      "2020-01-01 00:00:00+00:00   279.152  19.288053   350.0   350.0   350.0   \n",
      "2020-01-01 01:00:00+00:00    279.15  19.159514   350.0   350.0   350.0   \n",
      "2020-01-01 02:00:00+00:00   279.152  19.185197   350.0   350.0   350.0   \n",
      "2020-01-01 03:00:00+00:00   279.153  19.210892   350.0   350.0   350.0   \n",
      "2020-01-01 04:00:00+00:00   279.153   19.26232   350.0   350.0   350.0   \n",
      "...                             ...        ...     ...     ...     ...   \n",
      "2022-10-16 20:00:00+00:00    279.19  39.018688  1500.0  1500.0  1500.0   \n",
      "2022-10-16 21:00:00+00:00   279.185  38.918637  1500.0  1500.0  1500.0   \n",
      "2022-10-16 22:00:00+00:00   279.186  39.419836  1500.0  1500.0  1500.0   \n",
      "2022-10-16 23:00:00+00:00   279.183  39.018688  1500.0  1500.0  1500.0   \n",
      "2022-10-17 00:00:00+00:00    279.19  39.085441  1500.0  1500.0  1500.0   \n",
      "\n",
      "                           Rainfall  \n",
      "TimeStamp                            \n",
      "2020-01-01 00:00:00+00:00       0.0  \n",
      "2020-01-01 01:00:00+00:00       0.0  \n",
      "2020-01-01 02:00:00+00:00       0.0  \n",
      "2020-01-01 03:00:00+00:00       0.0  \n",
      "2020-01-01 04:00:00+00:00       0.0  \n",
      "...                             ...  \n",
      "2022-10-16 20:00:00+00:00       0.0  \n",
      "2022-10-16 21:00:00+00:00       0.0  \n",
      "2022-10-16 22:00:00+00:00       0.0  \n",
      "2022-10-16 23:00:00+00:00       0.0  \n",
      "2022-10-17 00:00:00+00:00       0.0  \n",
      "\n",
      "[24363 rows x 6 columns]\n"
     ]
    }
   ],
   "source": [
    "# Merge datasets into one dataframe\n",
    "df_temp = pd.merge(lake_level_df, flow_df, on='TimeStamp')\n",
    "df_temp = pd.merge(df_temp, gate_levels_df, on='TimeStamp')\n",
    "df_combined = pd.merge(df_temp, rainfall_df, on='TimeStamp', how='left')\n",
    "\n",
    "#Set index\n",
    "df_combined['TimeStamp'] = pd.to_datetime(df_combined['TimeStamp'])\n",
    "df_combined.set_index('TimeStamp', inplace=True)\n",
    "\n",
    "#Remove rows for which we don't have rainfall data\n",
    "df_river_data = df_combined.dropna()\n",
    "\n",
    "#Sort by timestamp descending\n",
    "df_river_data = df_river_data.sort_values('TimeStamp')\n",
    "\n",
    "print (df_river_data)"
   ]
  },
  {
   "cell_type": "code",
   "execution_count": null,
   "id": "1fec87ac-9485-4ec5-9056-d68e2c07113d",
   "metadata": {},
   "outputs": [],
   "source": [
    "#Save to csv\n",
    "df_river_data.to_csv('kaituna_data.csv')"
   ]
  }
 ],
 "metadata": {
  "kernelspec": {
   "display_name": "Python 3 (ipykernel)",
   "language": "python",
   "name": "python3"
  },
  "language_info": {
   "codemirror_mode": {
    "name": "ipython",
    "version": 3
   },
   "file_extension": ".py",
   "mimetype": "text/x-python",
   "name": "python",
   "nbconvert_exporter": "python",
   "pygments_lexer": "ipython3",
   "version": "3.9.12"
  }
 },
 "nbformat": 4,
 "nbformat_minor": 5
}
